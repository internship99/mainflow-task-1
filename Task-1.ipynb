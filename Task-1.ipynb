{
 "cells": [
  {
   "cell_type": "markdown",
   "id": "4f86c15b",
   "metadata": {},
   "source": [
    "# 1. Study Python syntax through tutorials and simple coding exercises."
   ]
  },
  {
   "cell_type": "code",
   "execution_count": 13,
   "id": "9e7eddba",
   "metadata": {},
   "outputs": [
    {
     "name": "stdout",
     "output_type": "stream",
     "text": [
      "After swapping:\n",
      "a = 10\n",
      "b = 5\n"
     ]
    }
   ],
   "source": [
    "# 1. Swap Two Variables\n",
    "# Initial values\n",
    "a = 5\n",
    "b = 10\n",
    "\n",
    "# Swap\n",
    "a, b = b, a\n",
    "\n",
    "print(\"After swapping:\")\n",
    "print(\"a =\", a)\n",
    "print(\"b =\", b)\n"
   ]
  },
  {
   "cell_type": "code",
   "execution_count": 14,
   "id": "5e9e5eb9",
   "metadata": {},
   "outputs": [
    {
     "name": "stdout",
     "output_type": "stream",
     "text": [
      "Enter a number: 35\n",
      "35 is odd\n"
     ]
    }
   ],
   "source": [
    "# 2. Check if a Number is Even or Odd\n",
    "num = int(input(\"Enter a number: \"))\n",
    "\n",
    "if num % 2 == 0:\n",
    "    print(f\"{num} is even\")\n",
    "else:\n",
    "    print(f\"{num} is odd\")\n"
   ]
  },
  {
   "cell_type": "code",
   "execution_count": 15,
   "id": "a2ae7d70",
   "metadata": {},
   "outputs": [
    {
     "name": "stdout",
     "output_type": "stream",
     "text": [
      "Enter first number: 1\n",
      "Enter second number: 2\n",
      "Enter third number: 3\n",
      "The largest number is 3\n"
     ]
    }
   ],
   "source": [
    "# 3. Find the Largest of Three Numbers\n",
    "a = int(input(\"Enter first number: \"))\n",
    "b = int(input(\"Enter second number: \"))\n",
    "c = int(input(\"Enter third number: \"))\n",
    "\n",
    "if a >= b and a >= c:\n",
    "    print(f\"The largest number is {a}\")\n",
    "elif b >= a and b >= c:\n",
    "    print(f\"The largest number is {b}\")\n",
    "else:\n",
    "    print(f\"The largest number is {c}\")\n"
   ]
  },
  {
   "cell_type": "code",
   "execution_count": 16,
   "id": "adeda831",
   "metadata": {},
   "outputs": [
    {
     "name": "stdout",
     "output_type": "stream",
     "text": [
      "The sum of the list is 15\n"
     ]
    }
   ],
   "source": [
    "# 4. Calculate the Sum of a List\n",
    "numbers = [1, 2, 3, 4, 5]\n",
    "sum_of_numbers = sum(numbers)\n",
    "\n",
    "print(f\"The sum of the list is {sum_of_numbers}\")\n"
   ]
  },
  {
   "cell_type": "code",
   "execution_count": 17,
   "id": "8a5bd2aa",
   "metadata": {},
   "outputs": [
    {
     "name": "stdout",
     "output_type": "stream",
     "text": [
      "Enter a string: sai teja\n",
      "The reversed string is ajet ias\n"
     ]
    }
   ],
   "source": [
    "# 5. Reverse a String\n",
    "\n",
    "string = input(\"Enter a string: \")\n",
    "reversed_string = string[::-1]\n",
    "\n",
    "print(f\"The reversed string is {reversed_string}\")\n"
   ]
  },
  {
   "cell_type": "markdown",
   "id": "a74ddce1",
   "metadata": {},
   "source": [
    "# 2. Practice writing basic scripts to perform arithmetic operations, manipulate strings, and use conditional statements."
   ]
  },
  {
   "cell_type": "code",
   "execution_count": 18,
   "id": "22133401",
   "metadata": {},
   "outputs": [
    {
     "name": "stdout",
     "output_type": "stream",
     "text": [
      "Addition: 15\n",
      "Subtraction: 5\n",
      "Multiplication: 50\n",
      "Division: 2.0\n"
     ]
    }
   ],
   "source": [
    "# Addition\n",
    "a = 10\n",
    "b = 5\n",
    "result = a + b\n",
    "print(\"Addition:\", result)\n",
    "\n",
    "# Subtraction\n",
    "result = a - b\n",
    "print(\"Subtraction:\", result)\n",
    "\n",
    "# Multiplication\n",
    "result = a * b\n",
    "print(\"Multiplication:\", result)\n",
    "\n",
    "# Division\n",
    "result = a / b\n",
    "print(\"Division:\", result)\n"
   ]
  },
  {
   "cell_type": "code",
   "execution_count": 19,
   "id": "a3166d2e",
   "metadata": {},
   "outputs": [
    {
     "name": "stdout",
     "output_type": "stream",
     "text": [
      "Hello World\n",
      "Length of message: 11\n",
      "Uppercase: HELLO WORLD\n",
      "Lowercase: hello world\n"
     ]
    }
   ],
   "source": [
    "# Concatenation\n",
    "greeting = \"Hello\"\n",
    "name = \"World\"\n",
    "message = greeting + \" \" + name\n",
    "print(message)\n",
    "\n",
    "# Length of a string\n",
    "print(\"Length of message:\", len(message))\n",
    "\n",
    "# Upper and lower case\n",
    "print(\"Uppercase:\", message.upper())\n",
    "print(\"Lowercase:\", message.lower())\n"
   ]
  },
  {
   "cell_type": "code",
   "execution_count": 20,
   "id": "b8b0cf2b",
   "metadata": {},
   "outputs": [
    {
     "name": "stdout",
     "output_type": "stream",
     "text": [
      "Positive number\n"
     ]
    }
   ],
   "source": [
    "num = 10\n",
    "\n",
    "if num > 0:\n",
    "    print(\"Positive number\")\n",
    "elif num == 0:\n",
    "    print(\"Zero\")\n",
    "else:\n",
    "    print(\"Negative number\")\n"
   ]
  },
  {
   "cell_type": "markdown",
   "id": "da941fa5",
   "metadata": {},
   "source": [
    "# 3.Gain familiarity with common data structures like lists, dictionaries, and tuples."
   ]
  },
  {
   "cell_type": "code",
   "execution_count": 21,
   "id": "832486f3",
   "metadata": {},
   "outputs": [
    {
     "name": "stdout",
     "output_type": "stream",
     "text": [
      "After append: ['apple', 'banana', 'cherry', 'orange']\n",
      "After insert: ['apple', 'blueberry', 'banana', 'cherry', 'orange']\n",
      "After remove: ['apple', 'blueberry', 'cherry', 'orange']\n",
      "Popped fruit: orange\n",
      "After pop: ['apple', 'blueberry', 'cherry']\n",
      "Sorted list: ['apple', 'blueberry', 'cherry']\n",
      "Reversed list: ['cherry', 'blueberry', 'apple']\n",
      "Index of 'apple': 2\n",
      "List of squares: [0, 1, 4, 9, 16, 25, 36, 49, 64, 81]\n"
     ]
    }
   ],
   "source": [
    "# Initialize a list\n",
    "fruits = [\"apple\", \"banana\", \"cherry\"]\n",
    "\n",
    "# Append an item to the list\n",
    "fruits.append(\"orange\")\n",
    "print(\"After append:\", fruits)\n",
    "\n",
    "# Insert an item at a specific position\n",
    "fruits.insert(1, \"blueberry\")\n",
    "print(\"After insert:\", fruits)\n",
    "\n",
    "# Remove an item from the list\n",
    "fruits.remove(\"banana\")\n",
    "print(\"After remove:\", fruits)\n",
    "\n",
    "# Pop an item from the list\n",
    "popped_fruit = fruits.pop()  # Removes the last item\n",
    "print(\"Popped fruit:\", popped_fruit)\n",
    "print(\"After pop:\", fruits)\n",
    "\n",
    "# Sort the list\n",
    "fruits.sort()\n",
    "print(\"Sorted list:\", fruits)\n",
    "\n",
    "# Reverse the list\n",
    "fruits.reverse()\n",
    "print(\"Reversed list:\", fruits)\n",
    "\n",
    "# Get the index of an item\n",
    "index_of_apple = fruits.index(\"apple\")\n",
    "print(\"Index of 'apple':\", index_of_apple)\n",
    "\n",
    "# List comprehension\n",
    "squares = [x**2 for x in range(10)]\n",
    "print(\"List of squares:\", squares)\n"
   ]
  },
  {
   "cell_type": "code",
   "execution_count": 22,
   "id": "f3c29828",
   "metadata": {},
   "outputs": [
    {
     "name": "stdout",
     "output_type": "stream",
     "text": [
      "After adding grade: {'name': 'John', 'age': 22, 'course': 'Computer Science', 'grade': 'A'}\n",
      "After updating age: {'name': 'John', 'age': 23, 'course': 'Computer Science', 'grade': 'A'}\n",
      "After deleting course: {'name': 'John', 'age': 23, 'grade': 'A'}\n",
      "Student name: John\n",
      "name: John\n",
      "age: 23\n",
      "grade: A\n",
      "Dictionary of squares: {0: 0, 1: 1, 2: 4, 3: 9, 4: 16}\n"
     ]
    }
   ],
   "source": [
    "# Initialize a dictionary\n",
    "student = {\n",
    "    \"name\": \"John\",\n",
    "    \"age\": 22,\n",
    "    \"course\": \"Computer Science\"\n",
    "}\n",
    "\n",
    "# Add a new key-value pair\n",
    "student[\"grade\"] = \"A\"\n",
    "print(\"After adding grade:\", student)\n",
    "\n",
    "# Update a value\n",
    "student[\"age\"] = 23\n",
    "print(\"After updating age:\", student)\n",
    "\n",
    "# Delete a key-value pair\n",
    "del student[\"course\"]\n",
    "print(\"After deleting course:\", student)\n",
    "\n",
    "# Get a value by key\n",
    "student_name = student.get(\"name\")\n",
    "print(\"Student name:\", student_name)\n",
    "\n",
    "# Iterate over keys and values\n",
    "for key, value in student.items():\n",
    "    print(f\"{key}: {value}\")\n",
    "\n",
    "# Dictionary comprehension\n",
    "squares_dict = {x: x**2 for x in range(5)}\n",
    "print(\"Dictionary of squares:\", squares_dict)\n"
   ]
  },
  {
   "cell_type": "code",
   "execution_count": 23,
   "id": "f310950f",
   "metadata": {},
   "outputs": [
    {
     "name": "stdout",
     "output_type": "stream",
     "text": [
      "X coordinate: 10.0\n",
      "Y coordinate: 20.0\n",
      "Unpacked coordinates: 10.0 20.0\n",
      "Nested tuple: ((1, 2, 3), ('a', 'b', 'c'))\n",
      "Single item tuple: (5,)\n"
     ]
    }
   ],
   "source": [
    "# Initialize a tuple\n",
    "coordinates = (10.0, 20.0)\n",
    "\n",
    "# Access elements\n",
    "x = coordinates[0]\n",
    "y = coordinates[1]\n",
    "print(\"X coordinate:\", x)\n",
    "print(\"Y coordinate:\", y)\n",
    "\n",
    "# Unpacking a tuple\n",
    "a, b = coordinates\n",
    "print(\"Unpacked coordinates:\", a, b)\n",
    "\n",
    "# Nested tuples\n",
    "nested_tuple = ((1, 2, 3), (\"a\", \"b\", \"c\"))\n",
    "print(\"Nested tuple:\", nested_tuple)\n",
    "\n",
    "# Tuple with one item (note the comma)\n",
    "single_item_tuple = (5,)\n",
    "print(\"Single item tuple:\", single_item_tuple)\n"
   ]
  },
  {
   "cell_type": "code",
   "execution_count": null,
   "id": "9b2e33fb",
   "metadata": {},
   "outputs": [],
   "source": []
  },
  {
   "cell_type": "code",
   "execution_count": null,
   "id": "b1a93ce3",
   "metadata": {},
   "outputs": [],
   "source": []
  },
  {
   "cell_type": "code",
   "execution_count": null,
   "id": "bd301dc5",
   "metadata": {},
   "outputs": [],
   "source": []
  }
 ],
 "metadata": {
  "kernelspec": {
   "display_name": "Python 3 (ipykernel)",
   "language": "python",
   "name": "python3"
  },
  "language_info": {
   "codemirror_mode": {
    "name": "ipython",
    "version": 3
   },
   "file_extension": ".py",
   "mimetype": "text/x-python",
   "name": "python",
   "nbconvert_exporter": "python",
   "pygments_lexer": "ipython3",
   "version": "3.11.3"
  }
 },
 "nbformat": 4,
 "nbformat_minor": 5
}
